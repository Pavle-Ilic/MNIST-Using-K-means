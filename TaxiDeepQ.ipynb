{
  "nbformat": 4,
  "nbformat_minor": 0,
  "metadata": {
    "colab": {
      "provenance": [],
      "authorship_tag": "ABX9TyNpxXf3Vgq2BzTSqiUijohr",
      "include_colab_link": true
    },
    "kernelspec": {
      "name": "python3",
      "display_name": "Python 3"
    },
    "language_info": {
      "name": "python"
    }
  },
  "cells": [
    {
      "cell_type": "markdown",
      "metadata": {
        "id": "view-in-github",
        "colab_type": "text"
      },
      "source": [
        "<a href=\"https://colab.research.google.com/github/Pavle-Ilic/MNIST-Using-K-means/blob/master/TaxiDeepQ.ipynb\" target=\"_parent\"><img src=\"https://colab.research.google.com/assets/colab-badge.svg\" alt=\"Open In Colab\"/></a>"
      ]
    },
    {
      "cell_type": "code",
      "execution_count": null,
      "metadata": {
        "id": "MOrFL7hVjtei"
      },
      "outputs": [],
      "source": [
        "!pip install 'imageio==2.4.0'\n",
        "!pip install pyvirtualdisplay\n",
        "!pip install tf-agents[reverb]\n",
        "!pip install pyglet"
      ]
    },
    {
      "cell_type": "code",
      "source": [
        "!sudo apt-get update\n",
        "!sudo apt-get install -y xvfb ffmpeg freeglut3-dev"
      ],
      "metadata": {
        "id": "5NgdhW1iGc0o"
      },
      "execution_count": null,
      "outputs": []
    },
    {
      "cell_type": "code",
      "source": [
        "\n",
        "from __future__ import absolute_import, division, print_function\n",
        "\n",
        "import base64\n",
        "import imageio\n",
        "import IPython\n",
        "import matplotlib\n",
        "import matplotlib.pyplot as plt\n",
        "import numpy as np\n",
        "import PIL.Image\n",
        "import pyvirtualdisplay\n",
        "import reverb\n",
        "\n",
        "import tensorflow as tf\n",
        "\n",
        "from tf_agents.agents.dqn import dqn_agent\n",
        "from tf_agents.drivers import py_driver\n",
        "from tf_agents.environments import suite_gym\n",
        "from tf_agents.environments import tf_py_environment\n",
        "from tf_agents.eval import metric_utils\n",
        "from tf_agents.metrics import tf_metrics\n",
        "from tf_agents.networks import sequential\n",
        "from tf_agents.policies import py_tf_eager_policy\n",
        "from tf_agents.policies import random_tf_policy\n",
        "from tf_agents.replay_buffers import reverb_replay_buffer\n",
        "from tf_agents.replay_buffers import reverb_utils\n",
        "from tf_agents.trajectories import trajectory\n",
        "from tf_agents.specs import tensor_spec\n",
        "from tf_agents.utils import common"
      ],
      "metadata": {
        "id": "r1KwIrxJj-pK"
      },
      "execution_count": 18,
      "outputs": []
    },
    {
      "cell_type": "code",
      "source": [
        "display = pyvirtualdisplay.Display(visible=0, size=(1400, 900)).start()"
      ],
      "metadata": {
        "id": "kXI8jt0hkl7u"
      },
      "execution_count": 4,
      "outputs": []
    },
    {
      "cell_type": "markdown",
      "source": [
        "# **HyperParameters**"
      ],
      "metadata": {
        "id": "mKrThEpTl4UU"
      }
    },
    {
      "cell_type": "code",
      "source": [
        "num_iters = 20000\n",
        "initial_collect_steps = 100\n",
        "collect_steps_per_iter = 1\n",
        "replay_buffer_max_length = 100000\n",
        "\n",
        "batch_size = 64\n",
        "learning_rate = 1e-3\n",
        "log_interval = 200\n",
        "\n",
        "num_eval_epis = 10\n",
        "eval_interval = 1000"
      ],
      "metadata": {
        "id": "ic50Wntol9iv"
      },
      "execution_count": 5,
      "outputs": []
    },
    {
      "cell_type": "markdown",
      "source": [
        "# **Environment**"
      ],
      "metadata": {
        "id": "SGaARoxNmXsf"
      }
    },
    {
      "cell_type": "code",
      "source": [
        "env = suite_gym.load('CartPole-v0')\n"
      ],
      "metadata": {
        "id": "wmfL6MWwmayE"
      },
      "execution_count": 6,
      "outputs": []
    },
    {
      "cell_type": "code",
      "source": [
        "env.reset()\n",
        "PIL.Image.fromarray(env.render())"
      ],
      "metadata": {
        "colab": {
          "base_uri": "https://localhost:8080/",
          "height": 417
        },
        "id": "MYjwvxFzyaGG",
        "outputId": "c313e44a-1432-4196-dab0-af55d631a506"
      },
      "execution_count": 7,
      "outputs": [
        {
          "output_type": "execute_result",
          "data": {
            "text/plain": [
              "<PIL.Image.Image image mode=RGB size=600x400 at 0x7FAD6C6F2380>"
            ],
            "image/png": "[encoded data removed]"
          },
          "metadata": {},
          "execution_count": 7
        }
      ]
    },
    {
      "cell_type": "code",
      "source": [
        "print(f'Observation space: \\n{env.time_step_spec().observation}')"
      ],
      "metadata": {
        "colab": {
          "base_uri": "https://localhost:8080/"
        },
        "id": "zWHsc9J0yiHb",
        "outputId": "858a80f9-0150-4fe5-d435-20870087f797"
      },
      "execution_count": 8,
      "outputs": [
        {
          "output_type": "stream",
          "name": "stdout",
          "text": [
            "Observation space: \n",
            "BoundedArraySpec(shape=(4,), dtype=dtype('float32'), name='observation', minimum=[-4.8000002e+00 -3.4028235e+38 -4.1887903e-01 -3.4028235e+38], maximum=[4.8000002e+00 3.4028235e+38 4.1887903e-01 3.4028235e+38])\n"
          ]
        }
      ]
    },
    {
      "cell_type": "code",
      "source": [
        "print(f'Reward Spec: \\n{env.time_step_spec().reward}')"
      ],
      "metadata": {
        "colab": {
          "base_uri": "https://localhost:8080/"
        },
        "id": "iwY3oJ4qzL9Y",
        "outputId": "93b92980-75e0-455f-e6d2-0d1c99356ccf"
      },
      "execution_count": 9,
      "outputs": [
        {
          "output_type": "stream",
          "name": "stdout",
          "text": [
            "Reward Spec: \n",
            "ArraySpec(shape=(), dtype=dtype('float32'), name='reward')\n"
          ]
        }
      ]
    },
    {
      "cell_type": "code",
      "source": [
        "print(f'Action Spec: \\n{env.action_spec()}')"
      ],
      "metadata": {
        "colab": {
          "base_uri": "https://localhost:8080/"
        },
        "id": "2uMuE42uziEQ",
        "outputId": "d97dc51a-9b5f-4ffe-c22c-13c1ae5bd807"
      },
      "execution_count": 10,
      "outputs": [
        {
          "output_type": "stream",
          "name": "stdout",
          "text": [
            "Action Spec: \n",
            "BoundedArraySpec(shape=(), dtype=dtype('int64'), name='action', minimum=0, maximum=1)\n"
          ]
        }
      ]
    },
    {
      "cell_type": "code",
      "source": [
        "time_step = env.reset()\n",
        "print(f'Time step: \\n{time_step}')"
      ],
      "metadata": {
        "colab": {
          "base_uri": "https://localhost:8080/"
        },
        "id": "V14-w32RzyvX",
        "outputId": "057dee77-1b00-44fa-a1da-4998d8828fb6"
      },
      "execution_count": 11,
      "outputs": [
        {
          "output_type": "stream",
          "name": "stdout",
          "text": [
            "Time step: \n",
            "TimeStep(\n",
            "{'discount': array(1., dtype=float32),\n",
            " 'observation': array([-0.03284045, -0.02997734,  0.0335369 , -0.04899519], dtype=float32),\n",
            " 'reward': array(0., dtype=float32),\n",
            " 'step_type': array(0, dtype=int32)})\n"
          ]
        }
      ]
    },
    {
      "cell_type": "code",
      "source": [
        "action = np.array(1, dtype = np.int32)\n",
        "print(action)\n"
      ],
      "metadata": {
        "colab": {
          "base_uri": "https://localhost:8080/"
        },
        "id": "QoHIn0hQz_Kk",
        "outputId": "53fdd248-7184-4b91-ca29-df0f5e6996dc"
      },
      "execution_count": 12,
      "outputs": [
        {
          "output_type": "stream",
          "name": "stdout",
          "text": [
            "1\n"
          ]
        }
      ]
    },
    {
      "cell_type": "code",
      "source": [
        "next_time_step = env.step(action)\n",
        "print(f'Next time step: \\n {next_time_step}')"
      ],
      "metadata": {
        "colab": {
          "base_uri": "https://localhost:8080/"
        },
        "id": "ApvMSNVJ0HgL",
        "outputId": "d43b28ab-d33d-454a-f23a-5db932a219ab"
      },
      "execution_count": 13,
      "outputs": [
        {
          "output_type": "stream",
          "name": "stdout",
          "text": [
            "Next time step: \n",
            " TimeStep(\n",
            "{'discount': array(1., dtype=float32),\n",
            " 'observation': array([-0.03343999,  0.16464807,  0.032557  , -0.33091116], dtype=float32),\n",
            " 'reward': array(1., dtype=float32),\n",
            " 'step_type': array(1, dtype=int32)})\n"
          ]
        }
      ]
    },
    {
      "cell_type": "code",
      "source": [
        "train_py_env = suite_gym.load('CartPole-v0')\n",
        "train_env = tf_py_environment.TFPyEnvironment(train_py_env)\n",
        "eval_py_env = suite_gym.load('CartPole-v0')\n",
        "eval_env = tf_py_environment.TFPyEnvironment(eval_py_env)"
      ],
      "metadata": {
        "id": "1-CMlJFx0cQ6"
      },
      "execution_count": 14,
      "outputs": []
    },
    {
      "cell_type": "code",
      "source": [
        "fc_layer_params = (100, 50)\n",
        "action_tensor_spec = tensor_spec.from_spec(env.action_spec())\n",
        "num_actions = action_tensor_spec.maximum - action_tensor_spec.minimum + 1\n",
        "\n",
        "def dense_layer(num_units):\n",
        "  return tf.keras.layers.Dense(\n",
        "      num_units, \n",
        "      activation = tf.keras.activations.relu,\n",
        "      kernel_initializer= tf.keras.initializers.VarianceScaling(\n",
        "          scale = 2.0, mode = 'fan_in', distribution = 'truncated_normal'))\n",
        "  \n",
        "dense_layers = [dense_layer(num_units) for num_units in fc_layer_params]\n",
        "q_values_layer = tf.keras.layers.Dense(\n",
        "    num_actions,\n",
        "    activation = None,\n",
        "    kernel_initializer = tf.keras.initializers.RandomUniform(\n",
        "        minval = -0.03, maxval = 0.03),\n",
        "        bias_initializer = tf.keras.initializers.Constant(-0.2))\n",
        "q_net = sequential.Sequential(dense_layers + [q_values_layer])"
      ],
      "metadata": {
        "id": "qIoXLRNC0s4p"
      },
      "execution_count": 15,
      "outputs": []
    },
    {
      "cell_type": "code",
      "source": [
        "optimizer = tf.keras.optimizers.Adam(learning_rate = learning_rate)\n",
        "\n",
        "train_step_counter = tf.Variable(0)\n",
        "\n",
        "agent = dqn_agent.DdqnAgent(\n",
        "    train_env.time_step_spec(),\n",
        "    train_env.action_spec(),\n",
        "    q_network = q_net,\n",
        "    optimizer = optimizer,\n",
        "    td_errors_loss_fn = common.element_wise_squared_loss,\n",
        "    train_step_counter = train_step_counter\n",
        ")\n",
        "\n",
        "agent.initialize()"
      ],
      "metadata": {
        "id": "GeVER9Ud30C9"
      },
      "execution_count": 16,
      "outputs": []
    },
    {
      "cell_type": "markdown",
      "source": [
        "# **Policies**"
      ],
      "metadata": {
        "id": "59x5iQ4HF1Ix"
      }
    },
    {
      "cell_type": "code",
      "source": [
        "eval_policy = agent.policy\n",
        "collect_policy = agent.collect_policy"
      ],
      "metadata": {
        "id": "pHrOSwXn4rIF"
      },
      "execution_count": 19,
      "outputs": []
    },
    {
      "cell_type": "code",
      "source": [
        "random_policy = random_tf_policy.RandomTFPolicy(train_env.time_step_spec(),\n",
        "                                                train_env.action_spec())"
      ],
      "metadata": {
        "id": "W3D1mXnGGxou"
      },
      "execution_count": 32,
      "outputs": []
    },
    {
      "cell_type": "code",
      "source": [
        "example_enviorment = tf_py_environment.TFPyEnvironment(suite_gym.load('CartPole-v0'))"
      ],
      "metadata": {
        "id": "NWCjPl_0HBWv"
      },
      "execution_count": 33,
      "outputs": []
    },
    {
      "cell_type": "code",
      "source": [
        "time_sep = example_enviorment.reset()"
      ],
      "metadata": {
        "id": "AGhtV1-tHkTd"
      },
      "execution_count": 34,
      "outputs": []
    },
    {
      "cell_type": "code",
      "source": [
        "#random_policy.action(time_step)"
      ],
      "metadata": {
        "id": "wmOqQsmxHo1_"
      },
      "execution_count": null,
      "outputs": []
    },
    {
      "cell_type": "markdown",
      "source": [
        "# **Metrics and Evaluation**"
      ],
      "metadata": {
        "id": "heN6D3gYIqmq"
      }
    },
    {
      "cell_type": "code",
      "source": [
        "def compute_avg_return(environment, policy, num_episodes = 10):\n",
        "  total_return = 0.0\n",
        "  for _ in range(num_episodes):\n",
        "    time_step = environment.reset()\n",
        "    episode_return = 0.0\n",
        "\n",
        "    while not time_step.is_last():\n",
        "      action_step = policy.action(time_step)\n",
        "      time_step = environment.step(action_step.action)\n",
        "      episode_return += time_step.reward\n",
        "    total_return += episode_return\n",
        "\n",
        "    avg_return = total_return / num_episodes\n",
        "    return avg_return.numpy()[0]"
      ],
      "metadata": {
        "id": "eSlKeatJIbMy"
      },
      "execution_count": 39,
      "outputs": []
    },
    {
      "cell_type": "code",
      "source": [
        "compute_avg_return(eval_env, random_policy, num_eval_epis)"
      ],
      "metadata": {
        "colab": {
          "base_uri": "https://localhost:8080/"
        },
        "id": "yLw7AGDaJdXD",
        "outputId": "6c0a19e3-415f-4ea2-ed7c-9ac628847db6"
      },
      "execution_count": 58,
      "outputs": [
        {
          "output_type": "execute_result",
          "data": {
            "text/plain": [
              "1.1"
            ]
          },
          "metadata": {},
          "execution_count": 58
        }
      ]
    },
    {
      "cell_type": "markdown",
      "source": [
        "# **Replay Buffer**"
      ],
      "metadata": {
        "id": "M8FhSwQqJ30l"
      }
    },
    {
      "cell_type": "code",
      "source": [
        "table_name = 'uniform_table'\n",
        "replay_buffer_signature = tensor_spec.from_spec(agent.collect_data_spec)\n",
        "replay_buffer_signature = tensor_spec.add_outer_dim(replay_buffer_signature)\n",
        "\n",
        "table = reverb.Table(\n",
        "    table_name,\n",
        "    max_size=replay_buffer_max_length,\n",
        "    sampler=reverb.selectors.Uniform(),\n",
        "    remover=reverb.selectors.Fifo(),\n",
        "    rate_limiter=reverb.rate_limiters.MinSize(1),\n",
        "    signature=replay_buffer_signature)\n",
        "\n",
        "reverb_server = reverb.Server([table])\n",
        "\n",
        "replay_buffer = reverb_replay_buffer.ReverbReplayBuffer(\n",
        "    agent.collect_data_spec,\n",
        "    table_name = table_name,\n",
        "    sequence_length = 2,\n",
        "    local_server = reverb_server\n",
        ")\n",
        "\n",
        "rb_observer = reverb_utils.ReverbAddTrajectoryObserver(\n",
        "    replay_buffer.py_client,\n",
        "    table_name,\n",
        "    sequence_length = 2\n",
        ")\n",
        "\n"
      ],
      "metadata": {
        "id": "wUMBk5xMJ-h5"
      },
      "execution_count": 62,
      "outputs": []
    },
    {
      "cell_type": "code",
      "source": [
        "agent.collect_data_spec"
      ],
      "metadata": {
        "colab": {
          "base_uri": "https://localhost:8080/"
        },
        "id": "PYFaGp-dL4_p",
        "outputId": "2fa125ce-55bc-42c5-deac-b982ec7e6dfb"
      },
      "execution_count": 63,
      "outputs": [
        {
          "output_type": "execute_result",
          "data": {
            "text/plain": [
              "Trajectory(\n",
              "{'action': BoundedTensorSpec(shape=(), dtype=tf.int64, name='action', minimum=array(0), maximum=array(1)),\n",
              " 'discount': BoundedTensorSpec(shape=(), dtype=tf.float32, name='discount', minimum=array(0., dtype=float32), maximum=array(1., dtype=float32)),\n",
              " 'next_step_type': TensorSpec(shape=(), dtype=tf.int32, name='step_type'),\n",
              " 'observation': BoundedTensorSpec(shape=(4,), dtype=tf.float32, name='observation', minimum=array([-4.8000002e+00, -3.4028235e+38, -4.1887903e-01, -3.4028235e+38],\n",
              "      dtype=float32), maximum=array([4.8000002e+00, 3.4028235e+38, 4.1887903e-01, 3.4028235e+38],\n",
              "      dtype=float32)),\n",
              " 'policy_info': (),\n",
              " 'reward': TensorSpec(shape=(), dtype=tf.float32, name='reward'),\n",
              " 'step_type': TensorSpec(shape=(), dtype=tf.int32, name='step_type')})"
            ]
          },
          "metadata": {},
          "execution_count": 63
        }
      ]
    },
    {
      "cell_type": "code",
      "source": [
        "agent.collect_data_spec._fields"
      ],
      "metadata": {
        "colab": {
          "base_uri": "https://localhost:8080/"
        },
        "id": "uloVUecWMGwZ",
        "outputId": "2b5f19f5-4137-4ad8-f957-44c14df62720"
      },
      "execution_count": 64,
      "outputs": [
        {
          "output_type": "execute_result",
          "data": {
            "text/plain": [
              "('step_type',\n",
              " 'observation',\n",
              " 'action',\n",
              " 'policy_info',\n",
              " 'next_step_type',\n",
              " 'reward',\n",
              " 'discount')"
            ]
          },
          "metadata": {},
          "execution_count": 64
        }
      ]
    },
    {
      "cell_type": "markdown",
      "source": [
        "# **Data Collection**"
      ],
      "metadata": {
        "id": "6doma5fDMR3_"
      }
    },
    {
      "cell_type": "code",
      "source": [
        "py_driver.PyDriver(\n",
        "    env,\n",
        "    py_tf_eager_policy.PyTFEagerPolicy(\n",
        "        random_policy, use_tf_function = True),\n",
        "        [rb_observer],\n",
        "        max_steps = initial_collect_steps).run(train_py_env.reset())"
      ],
      "metadata": {
        "colab": {
          "base_uri": "https://localhost:8080/"
        },
        "id": "_A3lwN_SMUd2",
        "outputId": "50b8e6eb-5334-4350-9544-682c972392a6"
      },
      "execution_count": 65,
      "outputs": [
        {
          "output_type": "execute_result",
          "data": {
            "text/plain": [
              "(TimeStep(\n",
              " {'discount': array(1., dtype=float32),\n",
              "  'observation': array([ 0.044379  ,  0.04840463, -0.05236531, -0.12428109], dtype=float32),\n",
              "  'reward': array(1., dtype=float32),\n",
              "  'step_type': array(1, dtype=int32)}),\n",
              " ())"
            ]
          },
          "metadata": {},
          "execution_count": 65
        }
      ]
    },
    {
      "cell_type": "code",
      "source": [
        "iter(replay_buffer.as_dataset()).next()"
      ],
      "metadata": {
        "colab": {
          "base_uri": "https://localhost:8080/"
        },
        "id": "Zc3dOlQqM1Rp",
        "outputId": "e40b38eb-646a-4520-b2c8-072b7f1f5435"
      },
      "execution_count": 66,
      "outputs": [
        {
          "output_type": "execute_result",
          "data": {
            "text/plain": [
              "(Trajectory(\n",
              " {'action': <tf.Tensor: shape=(2,), dtype=int64, numpy=array([0, 0])>,\n",
              "  'discount': <tf.Tensor: shape=(2,), dtype=float32, numpy=array([1., 1.], dtype=float32)>,\n",
              "  'next_step_type': <tf.Tensor: shape=(2,), dtype=int32, numpy=array([1, 1], dtype=int32)>,\n",
              "  'observation': <tf.Tensor: shape=(2, 4), dtype=float32, numpy=\n",
              " array([[ 0.03009618, -0.02709766, -0.08117093, -0.11284393],\n",
              "        [ 0.02955422, -0.22096835, -0.08342781,  0.15316656]],\n",
              "       dtype=float32)>,\n",
              "  'policy_info': (),\n",
              "  'reward': <tf.Tensor: shape=(2,), dtype=float32, numpy=array([1., 1.], dtype=float32)>,\n",
              "  'step_type': <tf.Tensor: shape=(2,), dtype=int32, numpy=array([1, 1], dtype=int32)>}),\n",
              " SampleInfo(key=<tf.Tensor: shape=(2,), dtype=uint64, numpy=array([2867768061958201869, 2867768061958201869], dtype=uint64)>, probability=<tf.Tensor: shape=(2,), dtype=float64, numpy=array([0.01010101, 0.01010101])>, table_size=<tf.Tensor: shape=(2,), dtype=int64, numpy=array([99, 99])>, priority=<tf.Tensor: shape=(2,), dtype=float64, numpy=array([1., 1.])>, times_sampled=<tf.Tensor: shape=(2,), dtype=int32, numpy=array([1, 1], dtype=int32)>))"
            ]
          },
          "metadata": {},
          "execution_count": 66
        }
      ]
    },
    {
      "cell_type": "code",
      "source": [
        "# Dataset generates trajectories with shape [Bx2x...]\n",
        "dataset = replay_buffer.as_dataset(\n",
        "    num_parallel_calls=3,\n",
        "    sample_batch_size = batch_size,\n",
        "    num_steps = 2\n",
        ").prefetch(3)\n",
        "\n",
        "dataset"
      ],
      "metadata": {
        "colab": {
          "base_uri": "https://localhost:8080/"
        },
        "id": "jMgwhoIiNE5s",
        "outputId": "00c64b31-c01e-4231-9ba5-fa1e150e5863"
      },
      "execution_count": 67,
      "outputs": [
        {
          "output_type": "execute_result",
          "data": {
            "text/plain": [
              "<_PrefetchDataset element_spec=(Trajectory(\n",
              "{'action': TensorSpec(shape=(64, 2), dtype=tf.int64, name=None),\n",
              " 'discount': TensorSpec(shape=(64, 2), dtype=tf.float32, name=None),\n",
              " 'next_step_type': TensorSpec(shape=(64, 2), dtype=tf.int32, name=None),\n",
              " 'observation': TensorSpec(shape=(64, 2, 4), dtype=tf.float32, name=None),\n",
              " 'policy_info': (),\n",
              " 'reward': TensorSpec(shape=(64, 2), dtype=tf.float32, name=None),\n",
              " 'step_type': TensorSpec(shape=(64, 2), dtype=tf.int32, name=None)}), SampleInfo(key=TensorSpec(shape=(64, 2), dtype=tf.uint64, name=None), probability=TensorSpec(shape=(64, 2), dtype=tf.float64, name=None), table_size=TensorSpec(shape=(64, 2), dtype=tf.int64, name=None), priority=TensorSpec(shape=(64, 2), dtype=tf.float64, name=None), times_sampled=TensorSpec(shape=(64, 2), dtype=tf.int32, name=None)))>"
            ]
          },
          "metadata": {},
          "execution_count": 67
        }
      ]
    },
    {
      "cell_type": "code",
      "source": [
        "iterator = iter(dataset)\n",
        "print(iterator)"
      ],
      "metadata": {
        "colab": {
          "base_uri": "https://localhost:8080/"
        },
        "id": "guCsNn0WNakA",
        "outputId": "d067b7e2-88b8-464e-d907-dfa74391fbee"
      },
      "execution_count": 69,
      "outputs": [
        {
          "output_type": "stream",
          "name": "stdout",
          "text": [
            "<tensorflow.python.data.ops.iterator_ops.OwnedIterator object at 0x7fad32615780>\n"
          ]
        }
      ]
    },
    {
      "cell_type": "code",
      "source": [
        "iterator.next()"
      ],
      "metadata": {
        "id": "RSwJswaGNl-r"
      },
      "execution_count": null,
      "outputs": []
    },
    {
      "cell_type": "markdown",
      "source": [
        "# **Training the agent**"
      ],
      "metadata": {
        "id": "zEtJ7Bp5NwxX"
      }
    },
    {
      "cell_type": "code",
      "source": [
        "try:\n",
        "  %%time\n",
        "except:\n",
        "  pass\n",
        "\n",
        "#Optional Optimization by wrapping some of the code in a graph using TF function\n",
        "agent.train = common.function(agent.train)\n",
        "\n",
        "#reset the train step\n",
        "agent.train_step_counter.assign(0)\n",
        "\n",
        "#Evaluate the agent's policy once before training\n",
        "avg_return = compute_avg_return(eval_env, agent.policy, num_eval_epis)\n",
        "returns = [avg_return]\n",
        "\n",
        "#reste the env\n",
        "time_step = train_py_env.reset()\n",
        "\n",
        "#create a driver to eollect experience\n",
        "collect_driver = py_driver.PyDriver(\n",
        "    env, py_tf_eager_policy.PyTFEagerPolicy(\n",
        "        agent.collect_policy, use_tf_function = True\n",
        "    ),\n",
        "    [rb_observer],\n",
        "    max_steps = collect_steps_per_iter\n",
        ")\n",
        "\n",
        "for _ in range(num_iters):\n",
        "\n",
        "  #collect a few steps and save to the replay buffer\n",
        "  time_step, _ = collect_driver.run(time_step)\n",
        "\n",
        "  #Sample a batch of data from the buffer and update the agent's network\n",
        "  experience, unused_info = next(iterator)\n",
        "  train_loss = agent.train(experience).loss\n",
        "\n",
        "  step = agent.train_step_counter.numpy()\n",
        "\n",
        "  if step % log_interval == 0:\n",
        "    print('step = {0}: loss = {1}'.format(step, train_loss))\n",
        "\n",
        "  if step % eval_interval == 0:\n",
        "    avg_return = compute_avg_return(eval_env, agent.policy, num_eval_epis)\n",
        "    print('step = {0}: Average Return = {1}'.format(step, avg_return))\n",
        "    returns.append(avg_return)\n",
        "    "
      ],
      "metadata": {
        "id": "e3mGGW05NvFx"
      },
      "execution_count": null,
      "outputs": []
    },
    {
      "cell_type": "markdown",
      "source": [
        "# **Visualization**"
      ],
      "metadata": {
        "id": "53jwj0yyU3Ka"
      }
    },
    {
      "cell_type": "code",
      "source": [
        "iterations = range(0, num_iters + 1, eval_interval)\n",
        "plt.plot(iterations, returns)\n",
        "plt.ylabel('Average Return')\n",
        "plt.xlabel('Iterations')\n",
        "plt.ylim(top = 25)\n",
        "\n"
      ],
      "metadata": {
        "colab": {
          "base_uri": "https://localhost:8080/",
          "height": 472
        },
        "id": "CjoNYee2TJBs",
        "outputId": "87ed7237-aaeb-40ed-ab06-8989f0334e6a"
      },
      "execution_count": 81,
      "outputs": [
        {
          "output_type": "execute_result",
          "data": {
            "text/plain": [
              "(2.3600000500679017, 25.0)"
            ]
          },
          "metadata": {},
          "execution_count": 81
        },
        {
          "output_type": "display_data",
          "data": {
            "text/plain": [
              "<Figure size 640x480 with 1 Axes>"
            ],
            "image/png": "[encoded data removed]"
          },
          "metadata": {}
        }
      ]
    },
    {
      "cell_type": "code",
      "source": [
        "def embed_mp4(filename):\n",
        "  video = open(filename, 'rb').read()\n",
        "  b64 = base64.b64encode(video)\n",
        "  tag = '''\n",
        "  <video width=\"640\" height=\"480\" controls>\n",
        "    <source src=\"data:video/mp4;base64,{0}\" type=\"video/mp4\">\n",
        "  Your browser does not support the video tag.\n",
        "  </video>'''.format(b64.decode())\n",
        "\n",
        "  return IPython.display.HTML(tag)"
      ],
      "metadata": {
        "id": "T3WirACwUySG"
      },
      "execution_count": 78,
      "outputs": []
    },
    {
      "cell_type": "code",
      "source": [
        "def create_policy_eval_video(policy, filename, num_episodes = 5, fps = 30):\n",
        "  filename = filename + \".mp4\"\n",
        "  with imageio.get_writer(filename, fps = fps) as video:\n",
        "    for _ in range(num_episodes):\n",
        "      time_step = eval_env.reset()\n",
        "      video.append_data(eval_py_env.render())\n",
        "      while not time_step.is_last():\n",
        "        action_step = policy.action(time_step)\n",
        "        time_step = eval_env.step(action_step.action)\n",
        "        video.append_data(eval_py_env.render())\n",
        "  return embed_mp4(filename)\n",
        "\n",
        "create_policy_eval_video(agent.policy, \"trained-agent\")"
      ],
      "metadata": {
        "colab": {
          "base_uri": "https://localhost:8080/",
          "height": 539
        },
        "id": "9Ap770kXVllM",
        "outputId": "8e044bbe-6af9-4612-d415-695ce53fec68"
      },
      "execution_count": 82,
      "outputs": [
        {
          "output_type": "stream",
          "name": "stderr",
          "text": [
            "WARNING:root:IMAGEIO FFMPEG_WRITER WARNING: input image is not divisible by macro_block_size=16, resizing from (400, 600) to (400, 608) to ensure video compatibility with most codecs and players. To prevent resizing, make your input image divisible by the macro_block_size or set the macro_block_size to None (risking incompatibility). You may also see a FFMPEG warning concerning speedloss due to data not being aligned.\n"
          ]
        },
        {
          "output_type": "execute_result",
          "data": {
            "text/plain": [
              "<IPython.core.display.HTML object>"
            ],
            "text/html": [
              "\n",
              "  <video width=\"640\" height=\"480\" controls>\n",
              "    <source src=\"data:video/mp4;base64,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\" type=\"video/mp4\">\n",
              "  Your browser does not support the video tag.\n",
              "  </video>"
            ]
          },
          "metadata": {},
          "execution_count": 82
        }
      ]
    },
    {
      "cell_type": "code",
      "source": [
        "create_policy_eval_video(random_policy, \"random-agent\")"
      ],
      "metadata": {
        "colab": {
          "base_uri": "https://localhost:8080/",
          "height": 539
        },
        "id": "Vh47lOtTVrhI",
        "outputId": "58ebfd24-4f38-4a61-d8c1-cfb205bfba90"
      },
      "execution_count": 80,
      "outputs": [
        {
          "output_type": "stream",
          "name": "stderr",
          "text": [
            "WARNING:root:IMAGEIO FFMPEG_WRITER WARNING: input image is not divisible by macro_block_size=16, resizing from (400, 600) to (400, 608) to ensure video compatibility with most codecs and players. To prevent resizing, make your input image divisible by the macro_block_size or set the macro_block_size to None (risking incompatibility). You may also see a FFMPEG warning concerning speedloss due to data not being aligned.\n"
          ]
        },
        {
          "output_type": "execute_result",
          "data": {
            "text/plain": [
              "<IPython.core.display.HTML object>"
            ],
            "text/html": [
              "\n",
              "  <video width=\"640\" height=\"480\" controls>\n",
              "    <source src=\"data:video/mp4;base64,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\" type=\"video/mp4\">\n",
              "  Your browser does not support the video tag.\n",
              "  </video>"
            ]
          },
          "metadata": {},
          "execution_count": 80
        }
      ]
    }
  ]
}